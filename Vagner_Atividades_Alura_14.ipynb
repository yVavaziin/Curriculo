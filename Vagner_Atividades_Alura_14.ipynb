{
  "nbformat": 4,
  "nbformat_minor": 0,
  "metadata": {
    "colab": {
      "provenance": [],
      "authorship_tag": "ABX9TyO1upo5/XFAO+TbrDMsuH+Q",
      "include_colab_link": true
    },
    "kernelspec": {
      "name": "python3",
      "display_name": "Python 3"
    },
    "language_info": {
      "name": "python"
    }
  },
  "cells": [
    {
      "cell_type": "markdown",
      "metadata": {
        "id": "view-in-github",
        "colab_type": "text"
      },
      "source": [
        "<a href=\"https://colab.research.google.com/github/yVavaziin/Curriculo/blob/main/Vagner_Atividades_Alura_14.ipynb\" target=\"_parent\"><img src=\"https://colab.research.google.com/assets/colab-badge.svg\" alt=\"Open In Colab\"/></a>"
      ]
    },
    {
      "cell_type": "code",
      "execution_count": null,
      "metadata": {
        "colab": {
          "base_uri": "https://localhost:8080/"
        },
        "id": "HYvvqmlCT-Qc",
        "outputId": "ffc71973-60e5-430e-e9aa-4eca2b6e6f3d"
      },
      "outputs": [
        {
          "output_type": "stream",
          "name": "stdout",
          "text": [
            "saldo - imposto\n",
            "1200.0 - 12.0\n",
            "2200.0 - 22.0\n",
            "1500.0 - 15.0\n",
            "5300.0 - 53.0\n",
            "7800.0 - 78.0\n",
            "1700.0 - 17.0\n",
            "2300.0 - 23.0\n",
            "8000.0 - 80.0\n",
            "4600.0 - 46.0\n",
            "9400.0 - 94.0\n"
          ]
        }
      ],
      "source": [
        "from collections.abc import MutableSequence\n",
        "\n",
        "class SaldoInsuficienteError(RuntimeError):\n",
        "    pass\n",
        "\n",
        "class Conta:\n",
        "    def __init__(self, numero, titular, saldo=0.0):\n",
        "        self._numero = numero\n",
        "        self._titular = titular\n",
        "        self._saldo = saldo\n",
        "\n",
        "    def deposita(self, valor):\n",
        "        if valor < 0:\n",
        "            raise ValueError('Você tentou depositar um valor negativo.')\n",
        "        self._saldo += valor\n",
        "\n",
        "    def saca(self, valor):\n",
        "        if valor < 0:\n",
        "            raise ValueError('Você tentou sacar um valor negativo.')\n",
        "        if self._saldo < valor:\n",
        "            raise SaldoInsuficienteError('Saldo insuficiente.')\n",
        "        self._saldo -= valor\n",
        "\n",
        "    @property\n",
        "    def saldo(self):\n",
        "        return self._saldo\n",
        "\n",
        "class ContaCorrente(Conta):\n",
        "    def __init__(self, numero, titular, saldo=0.0, limite=0.0):\n",
        "        super().__init__(numero, titular, saldo)\n",
        "        self._limite = limite\n",
        "\n",
        "    def saca(self, valor):\n",
        "        if valor < 0:\n",
        "            raise ValueError('Você tentou sacar um valor negativo.')\n",
        "        if self._saldo < valor:\n",
        "            raise SaldoInsuficienteError('Saldo insuficiente.')\n",
        "        self._saldo -= (valor + 0.10)\n",
        "\n",
        "    def get_valor_imposto(self):\n",
        "        return self._saldo * 0.01\n",
        "\n",
        "class Contas(MutableSequence):\n",
        "    def __init__(self):\n",
        "        self._dados = []\n",
        "\n",
        "    def __len__(self):\n",
        "        return len(self._dados)\n",
        "\n",
        "    def __getitem__(self, posicao):\n",
        "        return self._dados[posicao]\n",
        "\n",
        "    def __setitem__(self, posicao, valor):\n",
        "        if isinstance(valor, ContaCorrente):\n",
        "            self._dados[posicao] = valor\n",
        "        else:\n",
        "            raise TypeError(\"Valor atribuído não é uma ContaCorrente\")\n",
        "\n",
        "    def __delitem__(self, posicao):\n",
        "        del self._dados[posicao]\n",
        "\n",
        "    def insert(self, posicao, valor):\n",
        "        if isinstance(valor, ContaCorrente):\n",
        "            self._dados.insert(posicao, valor)\n",
        "        else:\n",
        "            raise TypeError(\"Valor inserido não é uma ContaCorrente\")\n",
        "\n",
        "if __name__ == '__main__':\n",
        "    contas = Contas()\n",
        "\n",
        "    dados_simulados = [\n",
        "        ['001', 'Vagner', 1200.0, 1000.0],\n",
        "        ['002', 'Eduardo', 2200.0, 1500.0],\n",
        "        ['003', 'Rafael', 1500.0, 1000.0],\n",
        "        ['004', 'Lucas', 5300.0, 2000.0],\n",
        "        ['005', 'Carla', 7800.0, 2500.0],\n",
        "        ['006', 'Joana', 1700.0, 1000.0],\n",
        "        ['007', 'Paulo', 2300.0, 1000.0],\n",
        "        ['008', 'Sofia', 8000.0, 3000.0],\n",
        "        ['009', 'Pedro', 4600.0, 1000.0],\n",
        "        ['010', 'Marina', 9400.0, 4000.0],\n",
        "    ]\n",
        "\n",
        "    for linha in dados_simulados:\n",
        "        conta = ContaCorrente(linha[0], linha[1], float(linha[2]), float(linha[3]))\n",
        "        contas.append(conta)\n",
        "\n",
        "    print('saldo - imposto')\n",
        "    for c in contas:\n",
        "        print(f'{c.saldo:.1f} - {c.get_valor_imposto():.1f}')\n"
      ]
    }
  ]
}