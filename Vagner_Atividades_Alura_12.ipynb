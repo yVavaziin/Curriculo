{
  "nbformat": 4,
  "nbformat_minor": 0,
  "metadata": {
    "colab": {
      "provenance": [],
      "authorship_tag": "ABX9TyNW6YkX//pyRNds/lP7zNCs",
      "include_colab_link": true
    },
    "kernelspec": {
      "name": "python3",
      "display_name": "Python 3"
    },
    "language_info": {
      "name": "python"
    }
  },
  "cells": [
    {
      "cell_type": "markdown",
      "metadata": {
        "id": "view-in-github",
        "colab_type": "text"
      },
      "source": [
        "<a href=\"https://colab.research.google.com/github/yVavaziin/Curriculo/blob/main/Vagner_Atividades_Alura_12.ipynb\" target=\"_parent\"><img src=\"https://colab.research.google.com/assets/colab-badge.svg\" alt=\"Open In Colab\"/></a>"
      ]
    },
    {
      "cell_type": "code",
      "execution_count": null,
      "metadata": {
        "id": "CJccmiTzRHf3",
        "outputId": "44459e1a-863f-4b4e-edd9-e87751b77596",
        "colab": {
          "base_uri": "https://localhost:8080/"
        }
      },
      "outputs": [
        {
          "output_type": "stream",
          "name": "stdout",
          "text": [
            "Total de impostos: R$145.00\n"
          ]
        }
      ],
      "source": [
        "class TributavelMixIn:\n",
        "    def get_valor_imposto(self):\n",
        "        pass\n",
        "\n",
        "\n",
        "class Conta:\n",
        "    def __init__(self, numero, titular, saldo=0.0):\n",
        "        self._numero = numero\n",
        "        self._titular = titular\n",
        "        self._saldo = saldo\n",
        "\n",
        "    def deposita(self, valor):\n",
        "        self._saldo += valor\n",
        "\n",
        "    def saca(self, valor):\n",
        "        self._saldo -= valor\n",
        "\n",
        "    def get_saldo(self):\n",
        "        return self._saldo\n",
        "\n",
        "\n",
        "class ContaCorrente(Conta, TributavelMixIn):\n",
        "    def get_valor_imposto(self):\n",
        "        return self._saldo * 0.01\n",
        "\n",
        "\n",
        "class SeguroDeVida(TributavelMixIn):\n",
        "    def __init__(self, valor, titular, numero_apolice):\n",
        "        self._valor = valor\n",
        "        self._titular = titular\n",
        "        self._numero_apolice = numero_apolice\n",
        "\n",
        "    def get_valor_imposto(self):\n",
        "        return 50 + self._valor * 0.05\n",
        "\n",
        "\n",
        "class ManipuladorDeTributaveis:\n",
        "    def calcula_impostos(self, lista_tributaveis):\n",
        "        total = 0\n",
        "        for t in lista_tributaveis:\n",
        "            total += t.get_valor_imposto()\n",
        "        return total\n",
        "\n",
        "\n",
        "# Execução dos testes\n",
        "if __name__ == '__main__':\n",
        "    cc1 = ContaCorrente('001', 'Vagner', 1000.0)\n",
        "    cc2 = ContaCorrente('002', 'Eduardo', 2000.0)\n",
        "    seguro1 = SeguroDeVida(100.0, 'Eduardo', '111-22')\n",
        "    seguro2 = SeguroDeVida(200.0, 'Rafael', '333-44')\n",
        "\n",
        "    lista_tributaveis = [cc1, cc2, seguro1, seguro2]\n",
        "\n",
        "    manipulador = ManipuladorDeTributaveis()\n",
        "    total = manipulador.calcula_impostos(lista_tributaveis)\n",
        "\n",
        "    print(f\"Total de impostos: R${total:.2f}\")\n"
      ]
    }
  ]
}